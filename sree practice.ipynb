{
 "cells": [
  {
   "cell_type": "code",
   "execution_count": 10,
   "metadata": {},
   "outputs": [
    {
     "name": "stdout",
     "output_type": "stream",
     "text": [
      "25|58|65\n"
     ]
    }
   ],
   "source": [
    "prar=(\"25\",\"58\",\"65\")\n",
    "print(\"|\".join(prar))"
   ]
  },
  {
   "cell_type": "code",
   "execution_count": 22,
   "metadata": {},
   "outputs": [
    {
     "name": "stdout",
     "output_type": "stream",
     "text": [
      "even\n"
     ]
    }
   ],
   "source": [
    "inp=int(input(\"enter an  number:\"))\n",
    "if inp%2==0:\n",
    "    print(\"even\")\n",
    "else:\n",
    "    print(\"add\")"
   ]
  },
  {
   "cell_type": "code",
   "execution_count": 55,
   "metadata": {},
   "outputs": [
    {
     "name": "stdout",
     "output_type": "stream",
     "text": [
      "YOUR MRMBERSHIP HAS BEEN CANCELED\n"
     ]
    }
   ],
   "source": [
    "# libiary fine mangement\n",
    "days=int(input(\"enter a days\"))\n",
    "if days==0:\n",
    "    print(days*0)\n",
    "elif days>=1 and days<=5:\n",
    "   fine= (days*5)\n",
    "   print(fine)\n",
    "elif days >=6 and days<=10:\n",
    "    fine=(days*10)\n",
    "    print(fine)\n",
    "elif days>=11 and days<=15:\n",
    "    fine=(days*15)\n",
    "    print(fine)\n",
    "else:\n",
    "    print(\"YOUR MRMBERSHIP HAS BEEN CANCELED\")\n"
   ]
  },
  {
   "cell_type": "code",
   "execution_count": 65,
   "metadata": {},
   "outputs": [
    {
     "ename": "KeyboardInterrupt",
     "evalue": "Interrupted by user",
     "output_type": "error",
     "traceback": [
      "\u001b[1;31m---------------------------------------------------------------------------\u001b[0m",
      "\u001b[1;31mKeyboardInterrupt\u001b[0m                         Traceback (most recent call last)",
      "Cell \u001b[1;32mIn[65], line 2\u001b[0m\n\u001b[0;32m      1\u001b[0m a\u001b[39m=\u001b[39m\u001b[39mint\u001b[39m(\u001b[39minput\u001b[39m(\u001b[39m\"\u001b[39m\u001b[39menter an number:\u001b[39m\u001b[39m\"\u001b[39m))\n\u001b[1;32m----> 2\u001b[0m b\u001b[39m=\u001b[39m\u001b[39mint\u001b[39m(\u001b[39minput\u001b[39;49m(\u001b[39m\"\u001b[39;49m\u001b[39menter an number:\u001b[39;49m\u001b[39m\"\u001b[39;49m))\n\u001b[0;32m      3\u001b[0m c\u001b[39m=\u001b[39m\u001b[39mint\u001b[39m(\u001b[39minput\u001b[39m(\u001b[39m\"\u001b[39m\u001b[39menter an number:\u001b[39m\u001b[39m\"\u001b[39m))\n\u001b[0;32m      5\u001b[0m \u001b[39mif\u001b[39;00m a\u001b[39m+\u001b[39mb\u001b[39m<\u001b[39mc \u001b[39mand\u001b[39;00m b\u001b[39m+\u001b[39mc\u001b[39m<\u001b[39ma \u001b[39mand\u001b[39;00m c\u001b[39m+\u001b[39ma\u001b[39m<\u001b[39mb:\n",
      "File \u001b[1;32m~\\AppData\\Roaming\\Python\\Python311\\site-packages\\ipykernel\\kernelbase.py:1191\u001b[0m, in \u001b[0;36mKernel.raw_input\u001b[1;34m(self, prompt)\u001b[0m\n\u001b[0;32m   1189\u001b[0m     msg \u001b[39m=\u001b[39m \u001b[39m\"\u001b[39m\u001b[39mraw_input was called, but this frontend does not support input requests.\u001b[39m\u001b[39m\"\u001b[39m\n\u001b[0;32m   1190\u001b[0m     \u001b[39mraise\u001b[39;00m StdinNotImplementedError(msg)\n\u001b[1;32m-> 1191\u001b[0m \u001b[39mreturn\u001b[39;00m \u001b[39mself\u001b[39;49m\u001b[39m.\u001b[39;49m_input_request(\n\u001b[0;32m   1192\u001b[0m     \u001b[39mstr\u001b[39;49m(prompt),\n\u001b[0;32m   1193\u001b[0m     \u001b[39mself\u001b[39;49m\u001b[39m.\u001b[39;49m_parent_ident[\u001b[39m\"\u001b[39;49m\u001b[39mshell\u001b[39;49m\u001b[39m\"\u001b[39;49m],\n\u001b[0;32m   1194\u001b[0m     \u001b[39mself\u001b[39;49m\u001b[39m.\u001b[39;49mget_parent(\u001b[39m\"\u001b[39;49m\u001b[39mshell\u001b[39;49m\u001b[39m\"\u001b[39;49m),\n\u001b[0;32m   1195\u001b[0m     password\u001b[39m=\u001b[39;49m\u001b[39mFalse\u001b[39;49;00m,\n\u001b[0;32m   1196\u001b[0m )\n",
      "File \u001b[1;32m~\\AppData\\Roaming\\Python\\Python311\\site-packages\\ipykernel\\kernelbase.py:1234\u001b[0m, in \u001b[0;36mKernel._input_request\u001b[1;34m(self, prompt, ident, parent, password)\u001b[0m\n\u001b[0;32m   1231\u001b[0m \u001b[39mexcept\u001b[39;00m \u001b[39mKeyboardInterrupt\u001b[39;00m:\n\u001b[0;32m   1232\u001b[0m     \u001b[39m# re-raise KeyboardInterrupt, to truncate traceback\u001b[39;00m\n\u001b[0;32m   1233\u001b[0m     msg \u001b[39m=\u001b[39m \u001b[39m\"\u001b[39m\u001b[39mInterrupted by user\u001b[39m\u001b[39m\"\u001b[39m\n\u001b[1;32m-> 1234\u001b[0m     \u001b[39mraise\u001b[39;00m \u001b[39mKeyboardInterrupt\u001b[39;00m(msg) \u001b[39mfrom\u001b[39;00m \u001b[39mNone\u001b[39m\n\u001b[0;32m   1235\u001b[0m \u001b[39mexcept\u001b[39;00m \u001b[39mException\u001b[39;00m:\n\u001b[0;32m   1236\u001b[0m     \u001b[39mself\u001b[39m\u001b[39m.\u001b[39mlog\u001b[39m.\u001b[39mwarning(\u001b[39m\"\u001b[39m\u001b[39mInvalid Message:\u001b[39m\u001b[39m\"\u001b[39m, exc_info\u001b[39m=\u001b[39m\u001b[39mTrue\u001b[39;00m)\n",
      "\u001b[1;31mKeyboardInterrupt\u001b[0m: Interrupted by user"
     ]
    }
   ],
   "source": [
    "#triangle find out\n",
    "a=int(input(\"enter an number:\"))\n",
    "b=int(input(\"enter an number:\"))\n",
    "c=int(input(\"enter an number:\"))\n",
    "\n",
    "if a+b<c and b+c<a and c+a<b:\n",
    "    print(\"triangle\")\n",
    "else:\n",
    "    print(\"not triangle\")"
   ]
  },
  {
   "cell_type": "code",
   "execution_count": 73,
   "metadata": {},
   "outputs": [
    {
     "name": "stdout",
     "output_type": "stream",
     "text": [
      "990\n"
     ]
    }
   ],
   "source": [
    "km=int(input(\"enter an km:\"))\n",
    "if km<=10:\n",
    "    print(km*11)\n",
    "elif km>=11 and km<=100:\n",
    "    print(km*10)\n",
    "else:\n",
    "    print(km*9)\n",
    "\n"
   ]
  },
  {
   "cell_type": "code",
   "execution_count": 79,
   "metadata": {},
   "outputs": [
    {
     "name": "stdout",
     "output_type": "stream",
     "text": [
      "total= 175\n",
      "35.0\n",
      "pass\n",
      "d grade\n"
     ]
    }
   ],
   "source": [
    "#sutudent grade system by if statement\n",
    "T=int(input(\"enter an TAMIL MARK:\"))\n",
    "E=int(input(\"enter an ENGLISH MARK:\"))\n",
    "M=int(input(\"enter an MATHS:\"))\n",
    "S=int(input(\"enter an SCIENCE:\"))\n",
    "SS=int(input(\"enter an SS MAMRK:\"))\n",
    "total=(T+E+M+S+SS)\n",
    "print(\"total=\",total)\n",
    "avg=total/5\n",
    "print(\"AVG=\",avg)\n",
    "if T>34 and E>34 and M>34 and S>34 and SS>34:\n",
    "    print(\"pass!\")\n",
    "    if avg>=85 and avg<=100:\n",
    "        print(\"a grade\")\n",
    "    elif avg<=84 and avg>=70:\n",
    "       print(\"b grade\")\n",
    "    elif avg<=69 and avg>=55:\n",
    "       print(\"c grade\")\n",
    "    elif avg<=54 and avg<=35:\n",
    "       print(\"d grade\")\n",
    "else:\n",
    "   print(\"fail\")\n",
    "   print(\"no grade\")\n",
    "\n",
    "      \n",
    "\n",
    "\n",
    "\n",
    "\n"
   ]
  }
 ],
 "metadata": {
  "kernelspec": {
   "display_name": "Python 3",
   "language": "python",
   "name": "python3"
  },
  "language_info": {
   "codemirror_mode": {
    "name": "ipython",
    "version": 3
   },
   "file_extension": ".py",
   "mimetype": "text/x-python",
   "name": "python",
   "nbconvert_exporter": "python",
   "pygments_lexer": "ipython3",
   "version": "3.11.0"
  },
  "orig_nbformat": 4
 },
 "nbformat": 4,
 "nbformat_minor": 2
}
